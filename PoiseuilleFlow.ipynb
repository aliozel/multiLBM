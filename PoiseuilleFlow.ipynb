{
 "cells": [
  {
   "cell_type": "markdown",
   "metadata": {},
   "source": [
    "\n",
    "# Simulation of Poiseuille Flow with LBM\n",
    "\n",
    "### Simualtion Parameters:\n",
    "\n",
    "* \\rho =10^3 kg/m^3\n",
    "* g= 10 m/s^2\n",
    "* w = 6 * 10^-4\n",
    "* \\nu = 10^-6 m^2/s\n",
    "* dx = 1*10^-5\n",
    "* dt = 1.667*10^-6\n",
    "     ######    Re = u w / /nu = 1250\n",
    "\n",
    "### Lattice Parameters:\n",
    "\n",
    "* w*= 60\n",
    "* dx* = 1\n",
    "* \\rho* = 1\n",
    "* dt* = 1\n",
    "* g* = 2.78*10^-6\n",
    "\n",
    "     ######     Cu = dx/dt = 5.9998\n",
    "\n",
    "\n"
   ]
  },
  {
   "cell_type": "markdown",
   "metadata": {},
   "source": [
    "### Step 1: Defining Parameters:"
   ]
  },
  {
   "cell_type": "code",
   "execution_count": 19,
   "metadata": {},
   "outputs": [],
   "source": [
    "from numpy import *; from numpy.linalg import *\n",
    "import matplotlib.pyplot as plt; from matplotlib import cm\n",
    "import numpy\n",
    "\n",
    "maxIter = 200000 # Total number of time iterations.\n",
    "Re      = 1250.0  # Reynolds number.\n",
    "nx = 30; ny = 60; ly=ny-1.0; q = 9 # Lattice dimensions and populations.\n",
    "cx = nx/4; cy=ny/2; r=ny/9;          # Coordinates of the cylinder.\n",
    "uLB     = 0.34729                     # Velocity in lattice units.\n",
    "nulb    = uLB*ny/Re; omega = 1.0 / (3.*nulb+0.5); # Relaxation parameter.\n",
    "cu=5.9998                               # Velocity conversion factors"
   ]
  },
  {
   "cell_type": "markdown",
   "metadata": {},
   "source": [
    "### Step2: Defining Lattice Constants and Forces"
   ]
  },
  {
   "cell_type": "code",
   "execution_count": 20,
   "metadata": {},
   "outputs": [],
   "source": [
    "c = array([(x,y) for x in [0,-1,1] for y in [0,-1,1]]) # Lattice velocities.\n",
    "t = 1./36. * ones(q)                                   # Lattice weights.\n",
    "t[asarray([norm(ci)<1.1 for ci in c])] = 1./9.; t[0] = 4./9.\n",
    "f = zeros((2,nx,ny))                                   # Defining force component\n",
    "f[0,:,:] = 0.00000278*ones((nx,ny))                    #  force value along x-axis"
   ]
  },
  {
   "cell_type": "markdown",
   "metadata": {},
   "source": [
    "### Step 3: Functin Definition:"
   ]
  },
  {
   "cell_type": "code",
   "execution_count": 21,
   "metadata": {},
   "outputs": [],
   "source": [
    "sumpop = lambda fin: sum(fin,axis=0) # Helper function for density computation.\n",
    "def equilibrium(rho,u):              # Equilibrium distribution function.\n",
    "    cu   = 3.0 * dot(c,u.transpose(1,0,2))\n",
    "    usqr = 3./2.*(u[0]**2+u[1]**2)\n",
    "    feq = zeros((q,nx,ny))\n",
    "    for i in range(q): feq[i,:,:] = rho*t[i]*(1.+cu[i]+0.5*cu[i]**2-usqr)\n",
    "\n",
    "    return feq"
   ]
  },
  {
   "cell_type": "markdown",
   "metadata": {},
   "source": [
    "### Step 4: Boundy Condition:"
   ]
  },
  {
   "cell_type": "code",
   "execution_count": 22,
   "metadata": {},
   "outputs": [],
   "source": [
    "noslip = [c.tolist().index((-c[i]).tolist()) for i in range(q)] # No slip condition\n",
    "\n",
    "i1 = arange(q)[asarray([ci[0]<0  for ci in c])] # Unknown on right wall.\n",
    "i2 = arange(q)[asarray([ci[0]==0 for ci in c])] # Vertical middle.\n",
    "\n",
    "def function1():                              # No Slip Boundry \n",
    "    retrunedlist  = zeros((nx,ny), dtype=bool)\n",
    "    for  j  in range (  ny ):\n",
    "        val  = True\n",
    "\n",
    "        if (not( j== 0  or  j==  ny-1 )):\n",
    "            continue\n",
    "\n",
    "        for  i  in range  (nx):\n",
    "            retrunedlist[i,j]  =  val\n",
    "\n",
    "    return retrunedlist"
   ]
  },
  {
   "cell_type": "markdown",
   "metadata": {},
   "source": [
    "### Step 5: Intial Value: "
   ]
  },
  {
   "cell_type": "code",
   "execution_count": 23,
   "metadata": {},
   "outputs": [],
   "source": [
    "e= zeros((q,2,nx,ny))\n",
    "p= zeros((q,nx,ny))\n",
    "p2= zeros((q,2,nx,ny))\n",
    "f2 = zeros((q,nx,ny))   # Source Term (Si)\n",
    "feq= zeros((q,nx,ny))\n",
    "\n",
    "for i in range (q): feq[i,:,:]= t[i]*ones((nx,ny))\n",
    "fin = feq.copy()\n"
   ]
  },
  {
   "cell_type": "markdown",
   "metadata": {},
   "source": [
    "### Step 6: Main Time Loop:"
   ]
  },
  {
   "cell_type": "code",
   "execution_count": 24,
   "metadata": {},
   "outputs": [],
   "source": [
    "for time in range(maxIter):\n",
    "    fin[i1,-1,:] = fin[i1,-2,:] # Right wall: outflow condition.\n",
    "    rho = sumpop(fin)           # Calculate macroscopic density and velocity.\n",
    "    u = dot(c.transpose(), fin.transpose((1,0,2)))/rho + f/(2* rho)\n",
    "    \n",
    "    rho[0,:] = 1./(1.-u[0,0,:]) * (sumpop(fin[i2,0,:])+2.*sumpop(fin[i1,0,:]))\n",
    "    \n",
    "     #### Source Term Si #####\n",
    "    for i in range(q): e[i, 0, :, :] = subtract(c[i, 0], u[0, :, :])\n",
    "    for i in range(q): e[i, 1, :, :] = subtract(c[i, 1], u[1, :, :])\n",
    "    for i in range(q): p[i, :, :] = c[i, 0] * u[0, :, :] + c[i, 1] * u[1, :, :]\n",
    "    for i in range(q): p2[i, 0, :, :] = p[i, :, :] * c[i, 0]\n",
    "    for i in range(q): p2[i, 1, :, :] = p[i, :, :] * c[i, 1]\n",
    "    z2 = e + 3*p2\n",
    "    for i in range(q): f2[i, :, :] = (1-0.5*omega)*t[i]*3*(z2[i, 0, :, :] * f[0, :, :] + z2[i, 1, :, :] * f[1, :, :])\n",
    "    \n",
    "    \n",
    "    feq = equilibrium(rho,u) \n",
    "    fout = fin - omega * (fin - feq)+ f2   # Collision step.\n",
    "\n",
    "    for i in range(q): fout[i,function1()] = fin[noslip[i],function1()] # Appling Boundry Condition\n",
    "    for i in range(q): # Streaming step.\n",
    "        fin[i,:,:] = roll(roll(fout[i,:,:],c[i,0],axis=0),c[i,1],axis=1)\n",
    "   \n",
    "    #if (time%100==0):                                                # Visualization, If needed Remove (#).   \n",
    "        #plt.clf(); plt.imshow(sqrt(u[0]**2+u[1]**2).transpose(),cmap=cm.Reds)\n",
    "        #plt.savefig(\"vel.\"+str(time/100).zfill(4)+\".png\")"
   ]
  },
  {
   "cell_type": "markdown",
   "metadata": {},
   "source": [
    "### Plotting Velocity Component:"
   ]
  },
  {
   "cell_type": "code",
   "execution_count": 25,
   "metadata": {
    "scrolled": true
   },
   "outputs": [
    {
     "data": {
      "image/png": "[encoded data removed]",
      "text/plain": [
       "<Figure size 432x288 with 1 Axes>"
      ]
     },
     "metadata": {
      "needs_background": "light"
     },
     "output_type": "display_data"
    }
   ],
   "source": [
    "x1= [i for i in range(ny)]\n",
    "y2= cu*u[0,10,:]           # Velocity componant along x-axis in one sectin ( here section 10 is selectid) mutplide by Velocity conversion factors.\n",
    "plt.plot(y2,x1 )\n",
    "plt.show()"
   ]
  },
  {
   "cell_type": "markdown",
   "metadata": {},
   "source": [
    "### Plotting the theoretical value of velocity in Lattice point in Poiseuille Flow:"
   ]
  },
  {
   "cell_type": "code",
   "execution_count": 26,
   "metadata": {},
   "outputs": [
    {
     "data": {
      "image/png": "[encoded data removed]",
      "text/plain": [
       "<Figure size 432x288 with 1 Axes>"
      ]
     },
     "metadata": {
      "needs_background": "light"
     },
     "output_type": "display_data"
    }
   ],
   "source": [
    "u2 = zeros((ny))                      # u2 is the velocity sete\n",
    "for i in range(ny): u2[i] = -(10000 /(2*1000*10**-6))*((((ny / 2) - i) * 10**-5) ** 2 - (ny * 10**-5 / 2)**2)\n",
    "plt.plot(u2,x1 )\n",
    "plt.show()"
   ]
  }
 ],
 "metadata": {
  "kernelspec": {
   "display_name": "Python 3",
   "language": "python",
   "name": "python3"
  },
  "language_info": {
   "codemirror_mode": {
    "name": "ipython",
    "version": 3
   },
   "file_extension": ".py",
   "mimetype": "text/x-python",
   "name": "python",
   "nbconvert_exporter": "python",
   "pygments_lexer": "ipython3",
   "version": "3.7.1"
  }
 },
 "nbformat": 4,
 "nbformat_minor": 2
}
